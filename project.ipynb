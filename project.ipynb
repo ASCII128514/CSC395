{
 "cells": [
  {
   "cell_type": "code",
   "execution_count": 14,
   "metadata": {},
   "outputs": [
    {
     "name": "stderr",
     "output_type": "stream",
     "text": [
      "┌ Info: Precompiling GraphPlot [a2cc645c-3eea-5389-862e-a155d0052231]\n",
      "└ @ Base loading.jl:1278\n",
      "┌ Warning: Module DataStructures with build ID 65847705776540 is missing from the cache.\n",
      "│ This may mean DataStructures [864edb3b-99cc-5e75-8d2d-829cb0a9cfe8] does not support precompilation but is imported by a module that does.\n",
      "└ @ Base loading.jl:1017\n",
      "┌ Warning: Module DataStructures with build ID 65847705776540 is missing from the cache.\n",
      "│ This may mean DataStructures [864edb3b-99cc-5e75-8d2d-829cb0a9cfe8] does not support precompilation but is imported by a module that does.\n",
      "└ @ Base loading.jl:1017\n",
      "┌ Info: Skipping precompilation since __precompile__(false). Importing GraphPlot [a2cc645c-3eea-5389-862e-a155d0052231].\n",
      "└ @ Base loading.jl:1034\n",
      "┌ Info: Precompiling Compose [a81c6b42-2e10-5240-aca2-a61377ecd94b]\n",
      "└ @ Base loading.jl:1278\n",
      "┌ Warning: Module DataStructures with build ID 65847705776540 is missing from the cache.\n",
      "│ This may mean DataStructures [864edb3b-99cc-5e75-8d2d-829cb0a9cfe8] does not support precompilation but is imported by a module that does.\n",
      "└ @ Base loading.jl:1017\n",
      "┌ Info: Skipping precompilation since __precompile__(false). Importing Compose [a81c6b42-2e10-5240-aca2-a61377ecd94b].\n",
      "└ @ Base loading.jl:1034\n",
      "┌ Info: Precompiling Requires [ae029012-a4dd-5104-9daa-d747884805df]\n",
      "└ @ Base loading.jl:1278\n"
     ]
    }
   ],
   "source": [
    "using LightGraphs\n",
    "using GraphPlot"
   ]
  },
  {
   "cell_type": "code",
   "execution_count": 15,
   "metadata": {},
   "outputs": [
    {
     "data": {
      "text/plain": [
       "{98, 0} undirected simple Int64 graph"
      ]
     },
     "execution_count": 15,
     "metadata": {},
     "output_type": "execute_result"
    }
   ],
   "source": [
    "# create the network that we need.\n",
    "G = Graph(98)"
   ]
  },
  {
   "cell_type": "code",
   "execution_count": 16,
   "metadata": {},
   "outputs": [],
   "source": [
    "# 1 public space connecting all the places.\n",
    "# 2-31 restraurnt 2-7 cluster 8-31 res\n",
    "# 32-79 retail 32-39 cluster 40-79 store\n",
    "# 80-92 cinema 80 cluster 81-92 cinema\n",
    "# 93 gym 94-97 gym"
   ]
  },
  {
   "cell_type": "code",
   "execution_count": 17,
   "metadata": {},
   "outputs": [
    {
     "data": {
      "text/plain": [
       "true"
      ]
     },
     "execution_count": 17,
     "metadata": {},
     "output_type": "execute_result"
    }
   ],
   "source": [
    "# add cluter to 1\n",
    "for i in 2:7\n",
    "    add_edge!(G, 1, i)\n",
    "end\n",
    "for i in 32:39\n",
    "    add_edge!(G,1,i)\n",
    "end\n",
    "add_edge!(G,1,80)\n",
    "add_edge!(G,1,93)\n",
    "add_edge!(G,1,98)"
   ]
  },
  {
   "cell_type": "code",
   "execution_count": 18,
   "metadata": {},
   "outputs": [],
   "source": [
    "# add shop to cluster\n",
    "for i in 1:6\n",
    "    for j in 1:4\n",
    "        add_edge!(G, i+1, 4*i-4+j+7)\n",
    "    end\n",
    "end\n",
    "for i in 1:8\n",
    "    for j in 1:5\n",
    "        add_edge!(G, i+31, 5*i-5+j+39)\n",
    "    end\n",
    "end\n",
    "for i in 1:1\n",
    "    for j in 1:12\n",
    "        add_edge!(G, i+1, 12*i-12+j+80)\n",
    "    end\n",
    "end\n",
    "for i in 1:1\n",
    "    for j in 1:4\n",
    "        add_edge!(G, i+1, 4*i-4+j+93)\n",
    "    end\n",
    "end"
   ]
  },
  {
   "cell_type": "code",
   "execution_count": 20,
   "metadata": {},
   "outputs": [],
   "source": [
    "struct Person\n",
    "    isInfected\n",
    "    schedule\n",
    "    intervention\n",
    "end"
   ]
  },
  {
   "cell_type": "code",
   "execution_count": null,
   "metadata": {},
   "outputs": [],
   "source": [
    "# 9000 people in the mall every day.\n",
    "# 1000 exployee\n",
    "# test for 30 days"
   ]
  },
  {
   "cell_type": "code",
   "execution_count": null,
   "metadata": {
    "scrolled": true
   },
   "outputs": [],
   "source": []
  },
  {
   "cell_type": "code",
   "execution_count": null,
   "metadata": {},
   "outputs": [],
   "source": []
  },
  {
   "cell_type": "code",
   "execution_count": null,
   "metadata": {},
   "outputs": [],
   "source": []
  }
 ],
 "metadata": {
  "kernelspec": {
   "display_name": "Julia 1.5.0",
   "language": "julia",
   "name": "julia-1.5"
  },
  "language_info": {
   "file_extension": ".jl",
   "mimetype": "application/julia",
   "name": "julia",
   "version": "1.5.0"
  }
 },
 "nbformat": 4,
 "nbformat_minor": 4
}
